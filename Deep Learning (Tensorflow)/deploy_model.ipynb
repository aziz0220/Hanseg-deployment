{
 "cells": [
  {
   "cell_type": "code",
   "outputs": [],
   "source": [
    "import nrrd\n",
    "from PIL import Image\n",
    "import numpy as np\n",
    "import json\n",
    "import requests"
   ],
   "metadata": {
    "collapsed": false,
    "ExecuteTime": {
     "end_time": "2024-04-05T13:02:03.944741Z",
     "start_time": "2024-04-05T13:02:03.694017Z"
    }
   },
   "id": "f04faab9e694341a",
   "execution_count": 1
  },
  {
   "cell_type": "code",
   "outputs": [],
   "source": [
    "SLICE_X = True\n",
    "SLICE_Y = False\n",
    "SLICE_Z = False\n",
    "data_dir = '/mnt/c/Users/benam/Downloads/HaN-Seg/HaN-Seg/set_4/'\n",
    "model_path = data_dir+'files_2/model_2_epoch.h5'\n",
    "input_path ='/mnt/c/Users/benam/Downloads/HaN-Seg/HaN-Seg/set_2/'\n",
    "CT_path = input_path+'case_01/case_01_IMG_CT.nrrd'\n",
    "LABEL_dict = {\n",
    "    \"background\": 0,\n",
    "    \"A_Carotid_L\": 1,\n",
    "    \"A_Carotid_R\": 2,\n",
    "    \"Arytenoid\": 3,\n",
    "    \"Bone_Mandible\": 4,\n",
    "    \"Brainstem\": 5,\n",
    "    \"BuccalMucosa\": 6,\n",
    "    \"Cavity_Oral\": 7,\n",
    "    \"Cochlea_L\": 8,\n",
    "    \"Cochlea_R\": 9,\n",
    "    \"Cricopharyngeus\": 10,\n",
    "    \"Esophagus_S\": 11,\n",
    "    \"Eye_AL\": 12,\n",
    "    \"Eye_AR\": 13,\n",
    "    \"Eye_PL\": 14,\n",
    "    \"Eye_PR\": 15,\n",
    "    \"Glnd_Lacrimal_L\": 16,\n",
    "    \"Glnd_Lacrimal_R\": 17,\n",
    "    \"Glnd_Submand_L\": 18,\n",
    "    \"Glnd_Submand_R\": 19,\n",
    "    \"Glnd_Thyroid\": 20,\n",
    "    \"Glottis\": 21,\n",
    "    \"Larynx_SG\": 22,\n",
    "    \"Lips\": 23,\n",
    "    \"OpticChiasm\": 24,\n",
    "    \"OpticNrv_L\": 25,\n",
    "    \"OpticNrv_R\": 26,\n",
    "    \"Parotid_L\": 27,\n",
    "    \"Parotid_R\": 28,\n",
    "    \"Pituitary\": 29,\n",
    "    \"SpinalCord\": 30,\n",
    "}"
   ],
   "metadata": {
    "collapsed": false,
    "ExecuteTime": {
     "end_time": "2024-04-05T13:02:03.948887Z",
     "start_time": "2024-04-05T13:02:03.945998Z"
    }
   },
   "id": "60df3f19832b8dc3",
   "execution_count": 2
  },
  {
   "cell_type": "code",
   "outputs": [],
   "source": [
    "def fixSlice(slice):\n",
    "    pre_width, pre_height = slice.shape\n",
    "    slice = np.flipud(slice)\n",
    "    image = Image.fromarray(slice) \n",
    "    new_size = max(slice.shape[0], slice.shape[1])\n",
    "    width, height = 512, 512  # Desired crop dimensions\n",
    "    image = image.resize((new_size, new_size), Image.NEAREST)\n",
    "    left = (image.width - width) // 2\n",
    "    top = (image.height - height) // 2\n",
    "    right = left + width\n",
    "    bottom = top + height\n",
    "    image = image.crop((left, top, right, bottom))\n",
    "    slice = np.array(image)\n",
    "    slice = slice/255.0\n",
    "    slice = np.stack((slice,)*3, axis=-1)  ## (H, W, 3)\n",
    "    slice = slice.astype(np.float32)\n",
    "    return slice, pre_width, pre_height"
   ],
   "metadata": {
    "collapsed": false,
    "ExecuteTime": {
     "end_time": "2024-04-05T13:02:03.956625Z",
     "start_time": "2024-04-05T13:02:03.950071Z"
    }
   },
   "id": "24d9ad01a822e6df",
   "execution_count": 3
  },
  {
   "cell_type": "code",
   "outputs": [],
   "source": [
    "def sliceVolumeImage(vol):\n",
    "    (dimz, dimy, dimx) = vol.shape\n",
    "    sliced_data = []\n",
    "    if SLICE_X:\n",
    "        for i in range(dimx):\n",
    "            img, pre_width, pre_height = fixSlice(vol[:, :, i])\n",
    "            sliced_data.append((img, pre_width, pre_height))\n",
    "    if SLICE_Y:\n",
    "        for i in range(dimy):\n",
    "            img, pre_width, pre_height = fixSlice(vol[:, i, :])\n",
    "            sliced_data.append((img, pre_width, pre_height))\n",
    "    if SLICE_Z:\n",
    "        for i in range(dimz):\n",
    "            img, pre_width, pre_height = fixSlice(vol[i, :, :])\n",
    "            sliced_data.append((img, pre_width, pre_height))\n",
    "    return sliced_data"
   ],
   "metadata": {
    "collapsed": false,
    "ExecuteTime": {
     "end_time": "2024-04-05T13:02:03.961765Z",
     "start_time": "2024-04-05T13:02:03.958203Z"
    }
   },
   "id": "3dcfa740af9a0f8d",
   "execution_count": 4
  },
  {
   "cell_type": "code",
   "outputs": [],
   "source": [
    "def restoreSlice(slice, width, height):\n",
    "    slice = np.flipud(slice)\n",
    "    resize_shape = max(width, height)\n",
    "    pad_width = ((resize_shape - slice.shape[0]) // 2, (resize_shape - slice.shape[1]) // 2)\n",
    "    slice = np.pad(slice, pad_width=pad_width, mode='constant', constant_values=0)\n",
    "    image = Image.fromarray(slice) \n",
    "    image = image.resize((width, height), Image.NEAREST)\n",
    "    slice = np.array(image)\n",
    "    #slice = slice*255.0\n",
    "    #slice = slice.astype(np.uint8)\n",
    "    return slice"
   ],
   "metadata": {
    "collapsed": false,
    "ExecuteTime": {
     "end_time": "2024-04-05T13:02:03.966966Z",
     "start_time": "2024-04-05T13:02:03.963090Z"
    }
   },
   "id": "9cbbf9beccc10fd4",
   "execution_count": 5
  },
  {
   "cell_type": "code",
   "outputs": [],
   "source": [
    "def restoreVolumeImage(slices, width, height, depth):\n",
    "    volume = []\n",
    "    if SLICE_X:\n",
    "        print(len(slices), \" === \", width)\n",
    "        for i in range(width):\n",
    "            slice = slices[i]\n",
    "            volume.append(slice)\n",
    "    if SLICE_Y:   \n",
    "       for i in range(height):\n",
    "           slice = slices[i+width]\n",
    "           volume.append(slice)\n",
    "    if SLICE_Z:\n",
    "        for i in range(depth):\n",
    "            slice = slices[i+width+height]\n",
    "            volume.append(slice)  \n",
    "    return np.stack(volume, axis=-1)"
   ],
   "metadata": {
    "collapsed": false,
    "ExecuteTime": {
     "end_time": "2024-04-05T13:02:03.971410Z",
     "start_time": "2024-04-05T13:02:03.967945Z"
    }
   },
   "id": "3ca159c50e5640b4",
   "execution_count": 6
  },
  {
   "cell_type": "code",
   "outputs": [],
   "source": [
    "def httprequest(image_slice):\n",
    "    predict_request = json.dumps({'instances' : image_slice})\n",
    "    url = \"http://localhost:8501/v1/models/model1:predict\"\n",
    "    response = requests.post(url, data=predict_request)\n",
    "    prediction = response.json()['predictions'][0]\n",
    "    return prediction"
   ],
   "metadata": {
    "collapsed": false,
    "ExecuteTime": {
     "end_time": "2024-04-05T13:02:03.976421Z",
     "start_time": "2024-04-05T13:02:03.972925Z"
    }
   },
   "id": "a0ebe799eaf5ee99",
   "execution_count": 7
  },
  {
   "cell_type": "code",
   "outputs": [],
   "source": [
    "def preprocess_case(nrrd_path, output_path):\n",
    "  data, header = nrrd.read(nrrd_path)\n",
    "  sliced_data = sliceVolumeImage(data)\n",
    "  predictions = []\n",
    "  for image_slice in sliced_data:\n",
    "    image = np.expand_dims(np.array(image_slice[0]), 0).tolist()\n",
    "    predicted_slice = httprequest(image)\n",
    "    my_array = np.array(predicted_slice)\n",
    "    predicted_slice = np.argmax(my_array, axis=-1)\n",
    "    predicted_slice = predicted_slice.astype(np.int32)\n",
    "    predicted_slice = restoreSlice(predicted_slice, image_slice[1], image_slice[2])\n",
    "    predictions.append(predicted_slice)\n",
    "  predicted_volume = restoreVolumeImage(predictions, data.shape[2], data.shape[1], data.shape[0])\n",
    "  print(predicted_volume.shape)\n",
    "  predicted_header = header.copy()\n",
    "  nrrd.write(output_path, predicted_volume, predicted_header)\n",
    "  print(f\"Prediction saved to: {output_path}\")\n",
    "  return predicted_volume"
   ],
   "metadata": {
    "collapsed": false,
    "ExecuteTime": {
     "end_time": "2024-04-05T13:02:03.981671Z",
     "start_time": "2024-04-05T13:02:03.977751Z"
    }
   },
   "id": "469c6a6ef46b02d8",
   "execution_count": 8
  },
  {
   "cell_type": "code",
   "outputs": [
    {
     "name": "stdout",
     "output_type": "stream",
     "text": [
      "202  ===  202\n",
      "(1024, 1024, 202)\n",
      "Prediction saved to: /mnt/c/Users/benam/Downloads/HaN-Seg/HaN-Seg/set_4/files_2/predicted.nrrd\n"
     ]
    }
   ],
   "source": [
    "predicted_volume = preprocess_case(CT_path, data_dir+'files_2/predicted.nrrd')"
   ],
   "metadata": {
    "collapsed": false,
    "ExecuteTime": {
     "end_time": "2024-04-05T13:13:28.731180Z",
     "start_time": "2024-04-05T13:02:06.599337Z"
    }
   },
   "id": "6376fc75d9d9da61",
   "execution_count": 9
  },
  {
   "cell_type": "code",
   "outputs": [],
   "source": [],
   "metadata": {
    "collapsed": false
   },
   "id": "24c9353b6a2ffcc0"
  },
  {
   "cell_type": "code",
   "outputs": [],
   "source": [
    "#model=tf.keras.models.load_model(model_path)\n",
    "#tf.saved_model.save(model ,data_dir+'files_2/model')\n",
    "#converter = tf.lite.TFLiteConverter.from_keras_model(model)\n",
    "#tflite_model = converter.convert()\n",
    "#with open(data_dir+'files_2/model.tflite', 'wb') as f:\n",
    "#    f.write(tflite_model)\n",
    "#interpreter = tf.lite.Interpreter(model_path=data_dir+'files_2/model.tflite')\n",
    "#interpreter.allocate_tensors()\n",
    "#input_details = interpreter.get_input_details()\n",
    "#output_details = interpreter.get_output_details()\n",
    "#input_data = np.array(np.random.random_sample(input_details[0]['shape']), dtype=np.float32)\n",
    "#interpreter.set_tensor(input_details[0]['index'], input_data)\n",
    "#interpreter.invoke()\n",
    "#output_data = interpreter.get_tensor(output_details[0]['index'])\n",
    "#print(output_data)"
   ],
   "metadata": {
    "collapsed": true,
    "ExecuteTime": {
     "end_time": "2024-04-05T04:23:20.812244Z",
     "start_time": "2024-04-05T04:23:20.809605Z"
    }
   },
   "id": "initial_id",
   "execution_count": 79
  }
 ],
 "metadata": {
  "kernelspec": {
   "display_name": "Python 3",
   "language": "python",
   "name": "python3"
  },
  "language_info": {
   "codemirror_mode": {
    "name": "ipython",
    "version": 2
   },
   "file_extension": ".py",
   "mimetype": "text/x-python",
   "name": "python",
   "nbconvert_exporter": "python",
   "pygments_lexer": "ipython2",
   "version": "2.7.6"
  }
 },
 "nbformat": 4,
 "nbformat_minor": 5
}
